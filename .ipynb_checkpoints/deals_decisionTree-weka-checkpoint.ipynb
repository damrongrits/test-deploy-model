{
 "cells": [
  {
   "cell_type": "code",
   "execution_count": null,
   "id": "5b868ff8",
   "metadata": {},
   "outputs": [],
   "source": [
    "# Load libraries\n",
    "import pandas as pd\n",
    "from sklearn.tree import DecisionTreeClassifier # Import Decision Tree Classifier\n",
    "from sklearn.model_selection import train_test_split # Import train_test_split function\n",
    "from sklearn import metrics #Import scikit-learn metrics module for accuracy calculation\n"
   ]
  },
  {
   "cell_type": "code",
   "execution_count": null,
   "id": "ba24fb98",
   "metadata": {},
   "outputs": [],
   "source": [
    "col_names = ['Age', 'Gender', 'Payment Method', 'Future Customer']\n",
    "# load dataset\n",
    "deals = pd.read_csv(\"/Users/anos/Documents/Works/Training/dataset/Deals.csv\")\n"
   ]
  },
  {
   "cell_type": "code",
   "execution_count": null,
   "id": "813ddd95",
   "metadata": {},
   "outputs": [],
   "source": [
    "deals"
   ]
  },
  {
   "cell_type": "code",
   "execution_count": null,
   "id": "b59c6fd2",
   "metadata": {},
   "outputs": [],
   "source": [
    "#split dataset in features and target variable\n",
    "feature_cols = ['Age', 'Gender', 'Payment Method']\n",
    "X = deals[feature_cols] # Features\n",
    "y = deals['Future Customer'] # Target variable\n"
   ]
  },
  {
   "cell_type": "code",
   "execution_count": 1,
   "id": "f1027172",
   "metadata": {},
   "outputs": [],
   "source": [
    "import os;\n",
    "\n",
    "os.environ[\"JAVA_HOME\"] = \"/Library/Java/JavaVirtualMachines/jdk-11.0.10.jdk/Contents/Home\""
   ]
  },
  {
   "cell_type": "code",
   "execution_count": 2,
   "id": "498e9e7f",
   "metadata": {},
   "outputs": [
    {
     "name": "stderr",
     "output_type": "stream",
     "text": [
      "DEBUG:weka.core.jvm:Adding bundled jars\n",
      "DEBUG:weka.core.jvm:Classpath=['/Users/anos/opt/anaconda3/lib/python3.8/site-packages/javabridge/jars/rhino-1.7R4.jar', '/Users/anos/opt/anaconda3/lib/python3.8/site-packages/javabridge/jars/runnablequeue.jar', '/Users/anos/opt/anaconda3/lib/python3.8/site-packages/javabridge/jars/cpython.jar', '/Users/anos/opt/anaconda3/lib/python3.8/site-packages/weka/lib/python-weka-wrapper.jar', '/Users/anos/opt/anaconda3/lib/python3.8/site-packages/weka/lib/weka.jar']\n",
      "DEBUG:weka.core.jvm:MaxHeapSize=default\n",
      "DEBUG:weka.core.jvm:Package support disabled\n",
      "WARNING: An illegal reflective access operation has occurred\n",
      "WARNING: Illegal reflective access by weka.core.WekaPackageClassLoaderManager (file:/Users/anos/opt/anaconda3/lib/python3.8/site-packages/weka/lib/weka.jar) to method java.lang.ClassLoader.defineClass(java.lang.String,byte[],int,int,java.security.ProtectionDomain)\n",
      "WARNING: Please consider reporting this to the maintainers of weka.core.WekaPackageClassLoaderManager\n",
      "WARNING: Use --illegal-access=warn to enable warnings of further illegal reflective access operations\n",
      "WARNING: All illegal access operations will be denied in a future release\n"
     ]
    }
   ],
   "source": [
    "import weka.core.jvm as jvm\n",
    "jvm.start()"
   ]
  },
  {
   "cell_type": "code",
   "execution_count": 3,
   "id": "09f3b34e",
   "metadata": {},
   "outputs": [],
   "source": [
    "import weka.core.serialization as serialization\n",
    "from weka.classifiers import Evaluation, Classifier\n",
    "objects = serialization.read_all(\"/Users/anos/Documents/Works/Training/DataScience/Weka/PMj48.model\")\n",
    "classifier = Classifier(jobject=objects[0])\n",
    "#print(classifier)"
   ]
  },
  {
   "cell_type": "code",
   "execution_count": 4,
   "id": "df4ff4f2",
   "metadata": {},
   "outputs": [
    {
     "name": "stdout",
     "output_type": "stream",
     "text": [
      "@relation MF-test\n",
      "\n",
      "@attribute ﻿Type {M,L,H}\n",
      "@attribute 'Air temperature [K]' numeric\n",
      "@attribute 'Process temperature [K]' numeric\n",
      "@attribute 'Rotational speed [rpm]' numeric\n",
      "@attribute 'Torque [Nm]' numeric\n",
      "@attribute 'Tool wear [min]' numeric\n",
      "@attribute MF {Normal,Failure}\n",
      "\n",
      "@data\n",
      "L,300.8,311.4,1322,67.2,18,Failure\n",
      "L,300.7,311.9,1335,57.1,194,Failure\n",
      "M,300.4,311.8,1553,33.1,209,Failure\n",
      "L,302.2,310.6,1462,43.6,0,Normal\n",
      "M,302.1,310.6,1517,38.9,2,Normal\n",
      "L,302.1,310.6,1385,53.6,5,Normal\n"
     ]
    }
   ],
   "source": [
    "from weka.core.converters import Loader, Saver\n",
    "loader = Loader (classname = \"weka.core.converters.ArffLoader\")\n",
    "data=loader.load_file(\"/Users/anos/Documents/Works/Training/DataScience/Dataset/MF-test.arff\")\n",
    "data.class_is_last()\n",
    "print(data)"
   ]
  },
  {
   "cell_type": "code",
   "execution_count": 5,
   "id": "d525517f",
   "metadata": {},
   "outputs": [
    {
     "data": {
      "text/plain": [
       "M,300.4,311.8,1553,33.1,209,Failure"
      ]
     },
     "execution_count": 5,
     "metadata": {},
     "output_type": "execute_result"
    }
   ],
   "source": [
    "data[2]"
   ]
  },
  {
   "cell_type": "code",
   "execution_count": null,
   "id": "d716d818",
   "metadata": {},
   "outputs": [],
   "source": [
    "from weka.core.dataset import Attribute, Instance, Instances\n",
    "\n",
    "# create attributes\n",
    "type_att    = Attribute.create_nominal(\"nom\", [\"M\", \"L\", \"H\"])\n",
    "num1_att    = Attribute.create_numeric(\"num\")\n",
    "MF_att      = Attribute.create_nominal(\"nom\", [\"Normal\", \"Failure\"])\n",
    "\n",
    "# create dataset\n",
    "dataset = Instances.create_instances(\"helloworld\", [type_att, num1_att, MF_att], 0)\n"
   ]
  },
  {
   "cell_type": "code",
   "execution_count": 13,
   "id": "503361b5",
   "metadata": {},
   "outputs": [
    {
     "name": "stdout",
     "output_type": "stream",
     "text": [
      "@relation 'test instance'\n",
      "\n",
      "@attribute Type string\n",
      "@attribute 'Air temperature [K]' numeric\n",
      "@attribute 'Process temperature [K]' numeric\n",
      "@attribute 'Rotational speed [rpm]' numeric\n",
      "@attribute 'Torque [Nm]' numeric\n",
      "@attribute 'Tool wear [min]' numeric\n",
      "@attribute MF string\n",
      "\n",
      "@data\n",
      "L,300.7,311.9,1335,57.1,194,Failure\n",
      "M,300.4,311.8,1553,33.1,209,Failure\n"
     ]
    }
   ],
   "source": [
    "from weka.core.dataset import create_instances_from_lists\n",
    "# mixed data types\n",
    "x = [[\"L\",300.7,311.9,1335,57.1,194], [\"M\",300.4,311.8,1553,33.1,209]]\n",
    "y = [\"Failure\", \"Failure\"]\n",
    "dataset = create_instances_from_lists(x, y, name=\"test instance\", \n",
    "                                      cols_x=['Type', 'Air temperature [K]', \n",
    "                                              'Process temperature [K]','Rotational speed [rpm]',\n",
    "                                              'Torque [Nm]' , 'Tool wear [min]'], col_y=\"MF\")\n",
    "dataset.class_is_last()\n",
    "print(dataset)"
   ]
  },
  {
   "cell_type": "code",
   "execution_count": 12,
   "id": "72172b7d",
   "metadata": {},
   "outputs": [
    {
     "data": {
      "text/plain": [
       "0.0"
      ]
     },
     "execution_count": 12,
     "metadata": {},
     "output_type": "execute_result"
    }
   ],
   "source": [
    "classifier.classify_instance(dataset[0])"
   ]
  },
  {
   "cell_type": "code",
   "execution_count": null,
   "id": "21455c9d",
   "metadata": {},
   "outputs": [],
   "source": []
  },
  {
   "cell_type": "code",
   "execution_count": null,
   "id": "78668f93",
   "metadata": {},
   "outputs": [],
   "source": [
    "jvm.stop()"
   ]
  },
  {
   "cell_type": "code",
   "execution_count": null,
   "id": "ef438e1d",
   "metadata": {},
   "outputs": [],
   "source": []
  }
 ],
 "metadata": {
  "kernelspec": {
   "display_name": "Python 3 (ipykernel)",
   "language": "python",
   "name": "python3"
  },
  "language_info": {
   "codemirror_mode": {
    "name": "ipython",
    "version": 3
   },
   "file_extension": ".py",
   "mimetype": "text/x-python",
   "name": "python",
   "nbconvert_exporter": "python",
   "pygments_lexer": "ipython3",
   "version": "3.8.12"
  }
 },
 "nbformat": 4,
 "nbformat_minor": 5
}
