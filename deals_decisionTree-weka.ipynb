{
 "cells": [
  {
   "cell_type": "code",
   "execution_count": null,
   "id": "5b868ff8",
   "metadata": {},
   "outputs": [],
   "source": [
    "# Load libraries\n",
    "import pandas as pd\n",
    "from sklearn.tree import DecisionTreeClassifier # Import Decision Tree Classifier\n",
    "from sklearn.model_selection import train_test_split # Import train_test_split function\n",
    "from sklearn import metrics #Import scikit-learn metrics module for accuracy calculation\n"
   ]
  },
  {
   "cell_type": "code",
   "execution_count": null,
   "id": "ba24fb98",
   "metadata": {},
   "outputs": [],
   "source": [
    "col_names = ['Age', 'Gender', 'Payment Method', 'Future Customer']\n",
    "# load dataset\n",
    "deals = pd.read_csv(\"/Users/anos/Documents/Works/Training/dataset/Deals.csv\")\n"
   ]
  },
  {
   "cell_type": "code",
   "execution_count": null,
   "id": "813ddd95",
   "metadata": {},
   "outputs": [],
   "source": [
    "deals"
   ]
  },
  {
   "cell_type": "code",
   "execution_count": null,
   "id": "b59c6fd2",
   "metadata": {},
   "outputs": [],
   "source": [
    "#split dataset in features and target variable\n",
    "feature_cols = ['Age', 'Gender', 'Payment Method']\n",
    "X = deals[feature_cols] # Features\n",
    "y = deals['Future Customer'] # Target variable\n"
   ]
  },
  {
   "cell_type": "code",
   "execution_count": 8,
   "id": "b1b9c1f6",
   "metadata": {},
   "outputs": [],
   "source": [
    "import os;\n",
    "\n",
    "os.environ[\"JAVA_HOME\"] = \"/Library/Java/JavaVirtualMachines/jdk-11.0.10.jdk/Contents/Home\""
   ]
  },
  {
   "cell_type": "code",
   "execution_count": 9,
   "id": "498e9e7f",
   "metadata": {},
   "outputs": [
    {
     "name": "stderr",
     "output_type": "stream",
     "text": [
      "DEBUG:weka.core.jvm:Adding bundled jars\n",
      "DEBUG:weka.core.jvm:Classpath=['/Users/anos/opt/anaconda3/lib/python3.8/site-packages/javabridge/jars/rhino-1.7R4.jar', '/Users/anos/opt/anaconda3/lib/python3.8/site-packages/javabridge/jars/runnablequeue.jar', '/Users/anos/opt/anaconda3/lib/python3.8/site-packages/javabridge/jars/cpython.jar', '/Users/anos/opt/anaconda3/lib/python3.8/site-packages/weka/lib/python-weka-wrapper.jar', '/Users/anos/opt/anaconda3/lib/python3.8/site-packages/weka/lib/weka.jar', '/Users/anos/opt/anaconda3/lib/python3.8/site-packages/weka/lib/python-weka-wrapper.jar', '/Users/anos/opt/anaconda3/lib/python3.8/site-packages/weka/lib/weka.jar']\n",
      "DEBUG:weka.core.jvm:MaxHeapSize=default\n",
      "DEBUG:weka.core.jvm:Package support disabled\n"
     ]
    }
   ],
   "source": [
    "import weka.core.jvm as jvm\n",
    "jvm.start()"
   ]
  },
  {
   "cell_type": "code",
   "execution_count": 10,
   "id": "09f3b34e",
   "metadata": {},
   "outputs": [
    {
     "name": "stdout",
     "output_type": "stream",
     "text": [
      "J48 pruned tree\n",
      "------------------\n",
      "\n",
      "Torque [Nm] <= 53.5\n",
      "|   Torque [Nm] <= 13: Failure (30.0/3.0)\n",
      "|   Torque [Nm] > 13\n",
      "|   |   Tool wear [min] <= 204\n",
      "|   |   |   Rotational speed [rpm] <= 1379\n",
      "|   |   |   |   Air temperature [K] <= 301.5: Normal (524.0)\n",
      "|   |   |   |   Air temperature [K] > 301.5\n",
      "|   |   |   |   |   Process temperature [K] <= 312.1\n",
      "|   |   |   |   |   |   Air temperature [K] <= 302.7\n",
      "|   |   |   |   |   |   |   Process temperature [K] <= 310.9\n",
      "|   |   |   |   |   |   |   |   Air temperature [K] <= 302\n",
      "|   |   |   |   |   |   |   |   |   Process temperature [K] <= 310.3: Failure (5.0)\n",
      "|   |   |   |   |   |   |   |   |   Process temperature [K] > 310.3: Normal (18.0/3.0)\n",
      "|   |   |   |   |   |   |   |   Air temperature [K] > 302: Failure (32.0/3.0)\n",
      "|   |   |   |   |   |   |   Process temperature [K] > 310.9: Normal (49.0/1.0)\n",
      "|   |   |   |   |   |   Air temperature [K] > 302.7: Failure (20.0)\n",
      "|   |   |   |   |   Process temperature [K] > 312.1: Normal (41.0)\n",
      "|   |   |   Rotational speed [rpm] > 1379: Normal (7901.0/15.0)\n",
      "|   |   Tool wear [min] > 204\n",
      "|   |   |   Torque [Nm] <= 45: Normal (407.0/31.0)\n",
      "|   |   |   Torque [Nm] > 45\n",
      "|   |   |   |   Tool wear [min] <= 227\n",
      "|   |   |   |   |   Torque [Nm] <= 52.2: Normal (110.0/18.0)\n",
      "|   |   |   |   |   Torque [Nm] > 52.2\n",
      "|   |   |   |   |   |   Tool wear [min] <= 210: Normal (5.0/2.0)\n",
      "|   |   |   |   |   |   Tool wear [min] > 210: Failure (6.0)\n",
      "|   |   |   |   Tool wear [min] > 227: Failure (10.0/1.0)\n",
      "Torque [Nm] > 53.5\n",
      "|   Torque [Nm] <= 64.9\n",
      "|   |   Tool wear [min] <= 186\n",
      "|   |   |   Air temperature [K] <= 301.3\n",
      "|   |   |   |   Torque [Nm] <= 60.6: Normal (414.0/2.0)\n",
      "|   |   |   |   Torque [Nm] > 60.6\n",
      "|   |   |   |   |   Rotational speed [rpm] <= 1366: Normal (73.0/3.0)\n",
      "|   |   |   |   |   Rotational speed [rpm] > 1366\n",
      "|   |   |   |   |   |   Torque [Nm] <= 62.4\n",
      "|   |   |   |   |   |   |   Air temperature [K] <= 298.7: Failure (5.0/1.0)\n",
      "|   |   |   |   |   |   |   Air temperature [K] > 298.7: Normal (6.0)\n",
      "|   |   |   |   |   |   Torque [Nm] > 62.4: Failure (6.0)\n",
      "|   |   |   Air temperature [K] > 301.3\n",
      "|   |   |   |   Process temperature [K] <= 310.4\n",
      "|   |   |   |   |   Rotational speed [rpm] <= 1389\n",
      "|   |   |   |   |   |   Air temperature [K] <= 301.6: Normal (7.0/2.0)\n",
      "|   |   |   |   |   |   Air temperature [K] > 301.6: Failure (18.0)\n",
      "|   |   |   |   |   Rotational speed [rpm] > 1389: Normal (8.0)\n",
      "|   |   |   |   Process temperature [K] > 310.4\n",
      "|   |   |   |   |   Air temperature [K] <= 302.9: Normal (88.0/14.0)\n",
      "|   |   |   |   |   Air temperature [K] > 302.9\n",
      "|   |   |   |   |   |   Rotational speed [rpm] <= 1378\n",
      "|   |   |   |   |   |   |   Process temperature [K] <= 312: Failure (9.0)\n",
      "|   |   |   |   |   |   |   Process temperature [K] > 312: Normal (25.0/1.0)\n",
      "|   |   |   |   |   |   Rotational speed [rpm] > 1378: Normal (19.0/1.0)\n",
      "|   |   Tool wear [min] > 186\n",
      "|   |   |   ﻿Type = M\n",
      "|   |   |   |   Torque [Nm] <= 59.5: Normal (20.0/2.0)\n",
      "|   |   |   |   Torque [Nm] > 59.5: Failure (6.0/1.0)\n",
      "|   |   |   ﻿Type = L\n",
      "|   |   |   |   Torque [Nm] <= 56.6\n",
      "|   |   |   |   |   Tool wear [min] <= 199: Normal (15.0/1.0)\n",
      "|   |   |   |   |   Tool wear [min] > 199: Failure (19.0/1.0)\n",
      "|   |   |   |   Torque [Nm] > 56.6: Failure (32.0)\n",
      "|   |   |   ﻿Type = H: Normal (7.0/1.0)\n",
      "|   Torque [Nm] > 64.9\n",
      "|   |   Rotational speed [rpm] <= 1292\n",
      "|   |   |   Torque [Nm] <= 67.3\n",
      "|   |   |   |   Tool wear [min] <= 138: Normal (7.0)\n",
      "|   |   |   |   Tool wear [min] > 138: Failure (5.0/1.0)\n",
      "|   |   |   Torque [Nm] > 67.3\n",
      "|   |   |   |   Rotational speed [rpm] <= 1230: Normal (5.0/2.0)\n",
      "|   |   |   |   Rotational speed [rpm] > 1230: Failure (19.0)\n",
      "|   |   Rotational speed [rpm] > 1292: Failure (29.0)\n",
      "\n",
      "Number of Leaves  : \t37\n",
      "\n",
      "Size of the tree : \t72\n",
      "\n"
     ]
    }
   ],
   "source": [
    "import weka.core.serialization as serialization\n",
    "from weka.classifiers import Evaluation, Classifier\n",
    "objects = serialization.read_all(\"/Users/anos/Documents/Works/Training/DataScience/Weka/PMj48.model\")\n",
    "classifier = Classifier(jobject=objects[0])\n",
    "print(classifier)"
   ]
  },
  {
   "cell_type": "code",
   "execution_count": null,
   "id": "df4ff4f2",
   "metadata": {},
   "outputs": [],
   "source": [
    "from weka.core.converters import Loader, Saver\n",
    "loader = Loader (classname = \"weka.core.converters.ArffLoader\")\n",
    "data=loader.load_file(\"/Users/anos/Documents/Works/Training/DataScience/Dataset/MF-test.arff\")\n",
    "data.class_is_last()\n",
    "print(data)"
   ]
  },
  {
   "cell_type": "code",
   "execution_count": null,
   "id": "d525517f",
   "metadata": {},
   "outputs": [],
   "source": [
    "data[2]"
   ]
  },
  {
   "cell_type": "code",
   "execution_count": 4,
   "id": "56317f10",
   "metadata": {},
   "outputs": [
    {
     "name": "stdout",
     "output_type": "stream",
     "text": [
      "@relation helloworld\n",
      "\n",
      "@attribute Type {M,L,H}\n",
      "@attribute 'Air temperature [K]' numeric\n",
      "@attribute 'Process temperature [K]' numeric\n",
      "@attribute 'Rotational speed [rpm]' numeric\n",
      "@attribute 'Torque [Nm]' numeric\n",
      "@attribute 'Tool wear [min]' numeric\n",
      "@attribute MF {Normal,Failure}\n",
      "\n",
      "@data\n",
      "L,300.7,311.9,1335,57.1,194,Failure\n"
     ]
    }
   ],
   "source": [
    "from weka.core.dataset import Attribute, Instance, Instances\n",
    "\n",
    "# create attributes\n",
    "type_att    = Attribute.create_nominal(\"Type\", [\"M\", \"L\", \"H\"])\n",
    "num1_att    = Attribute.create_numeric(\"Air temperature [K]\")\n",
    "num2_att    = Attribute.create_numeric(\"Process temperature [K]\")\n",
    "num3_att    = Attribute.create_numeric(\"Rotational speed [rpm]\")\n",
    "num4_att    = Attribute.create_numeric(\"Torque [Nm]\")\n",
    "num5_att    = Attribute.create_numeric(\"Tool wear [min]\")\n",
    "MF_att      = Attribute.create_nominal(\"MF\", [\"Normal\", \"Failure\"])\n",
    "\n",
    "# create dataset\n",
    "dataset = Instances.create_instances(\"helloworld\", [type_att, num1_att, num2_att, \n",
    "                                                    num3_att, num4_att, num5_att, MF_att], 0)\n",
    "dataset.class_is_last()\n",
    "\n",
    "# add rows\n",
    "values = [1,300.7,311.9,1335,57.1,194,1]\n",
    "inst = Instance.create_instance(values)\n",
    "dataset.add_instance(inst)\n",
    "\n",
    "print(dataset)"
   ]
  },
  {
   "cell_type": "code",
   "execution_count": 5,
   "id": "72172b7d",
   "metadata": {},
   "outputs": [
    {
     "data": {
      "text/plain": [
       "1.0"
      ]
     },
     "execution_count": 5,
     "metadata": {},
     "output_type": "execute_result"
    }
   ],
   "source": [
    "classifier.classify_instance(dataset[0])"
   ]
  },
  {
   "cell_type": "code",
   "execution_count": null,
   "id": "21455c9d",
   "metadata": {},
   "outputs": [],
   "source": []
  },
  {
   "cell_type": "code",
   "execution_count": 6,
   "id": "78668f93",
   "metadata": {},
   "outputs": [],
   "source": [
    "jvm.stop()"
   ]
  },
  {
   "cell_type": "code",
   "execution_count": null,
   "id": "12e15568",
   "metadata": {},
   "outputs": [],
   "source": []
  }
 ],
 "metadata": {
  "kernelspec": {
   "display_name": "Python 3 (ipykernel)",
   "language": "python",
   "name": "python3"
  },
  "language_info": {
   "codemirror_mode": {
    "name": "ipython",
    "version": 3
   },
   "file_extension": ".py",
   "mimetype": "text/x-python",
   "name": "python",
   "nbconvert_exporter": "python",
   "pygments_lexer": "ipython3",
   "version": "3.8.12"
  }
 },
 "nbformat": 4,
 "nbformat_minor": 5
}
